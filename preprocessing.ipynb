{
 "cells": [
  {
   "cell_type": "code",
   "execution_count": 1,
   "metadata": {},
   "outputs": [],
   "source": [
    "import os\n",
    "import pandas as pd"
   ]
  },
  {
   "cell_type": "code",
   "execution_count": 2,
   "metadata": {},
   "outputs": [],
   "source": [
    "# Path names\n",
    "rootFolder = \"G:\\\\My Drive\\\\Kaggle\"\n",
    "trainSheet = os.path.join(rootFolder, 'stage_1_train.csv')\n",
    "validSheet = os.path.join(rootFolder, 'stage_1_sample_submission.csv')\n",
    "\n",
    "# All labels that we have to predict in this competition\n",
    "targets = ['epidural', 'intraparenchymal', \n",
    "           'intraventricular', 'subarachnoid', \n",
    "           'subdural', 'any']"
   ]
  },
  {
   "cell_type": "code",
   "execution_count": 3,
   "metadata": {},
   "outputs": [],
   "source": [
    "def prepareDataframe(path, train=False, nrows=None):\n",
    "    \"\"\"\n",
    "    Prepare Pandas DataFrame for fitting neural network models\n",
    "    Returns a Dataframe with two columns\n",
    "    ImageID and Labels (list of all labels for an image)\n",
    "    \"\"\" \n",
    "    df = pd.read_csv(path, nrows=nrows)\n",
    "    if train:\n",
    "        # Duplicates found from this kernel:\n",
    "        # https://www.kaggle.com/akensert/resnet50-keras-baseline-model\n",
    "        removeDuplicates = [1598538, 1598539, 1598540, 1598541, 1598542, 1598543,\n",
    "                                312468,  312469,  312470,  312471,  312472,  312473,\n",
    "                                2708700, 2708701, 2708702, 2708703, 2708704, 2708705,\n",
    "                                3032994, 3032995, 3032996, 3032997, 3032998, 3032999]  \n",
    "        df = df.drop(index=removeDuplicates).reset_index(drop=True)\n",
    "    \n",
    "    # Get ImageID for using with generator\n",
    "    df['ImageID'] = df['ID'].str.rsplit('_', 1).map(lambda x: x[0]) + '.png'\n",
    "    # Get labels for each image\n",
    "    labelList = df.groupby('ImageID')['Label'].apply(list)\n",
    "    \n",
    "    # A clean DataFrame with a column for ImageID and columns for each label\n",
    "    newDf = pd.DataFrame({'ImageID': df['ImageID'].unique(), \n",
    "                           'Labels': labelList}).set_index('ImageID').reset_index()\n",
    "    newDf[targets] = pd.DataFrame(newDf['Labels'].values.tolist(), index= newDf.index)\n",
    "    newDf = newDf.drop('Labels', axis=1)\n",
    "    return newDf"
   ]
  },
  {
   "cell_type": "code",
   "execution_count": 4,
   "metadata": {},
   "outputs": [],
   "source": [
    "# Convert dataframes to preprocessed format\n",
    "trainDf = prepareDataframe(trainSheet, train=True)\n",
    "validDf = prepareDataframe(validSheet)"
   ]
  },
  {
   "cell_type": "code",
   "execution_count": 5,
   "metadata": {},
   "outputs": [
    {
     "name": "stdout",
     "output_type": "stream",
     "text": [
      "Training data: \n"
     ]
    },
    {
     "data": {
      "text/html": [
       "<div>\n",
       "<style scoped>\n",
       "    .dataframe tbody tr th:only-of-type {\n",
       "        vertical-align: middle;\n",
       "    }\n",
       "\n",
       "    .dataframe tbody tr th {\n",
       "        vertical-align: top;\n",
       "    }\n",
       "\n",
       "    .dataframe thead th {\n",
       "        text-align: right;\n",
       "    }\n",
       "</style>\n",
       "<table border=\"1\" class=\"dataframe\">\n",
       "  <thead>\n",
       "    <tr style=\"text-align: right;\">\n",
       "      <th></th>\n",
       "      <th>ImageID</th>\n",
       "      <th>epidural</th>\n",
       "      <th>intraparenchymal</th>\n",
       "      <th>intraventricular</th>\n",
       "      <th>subarachnoid</th>\n",
       "      <th>subdural</th>\n",
       "      <th>any</th>\n",
       "    </tr>\n",
       "  </thead>\n",
       "  <tbody>\n",
       "    <tr>\n",
       "      <td>0</td>\n",
       "      <td>ID_63eb1e259.png</td>\n",
       "      <td>0</td>\n",
       "      <td>0</td>\n",
       "      <td>0</td>\n",
       "      <td>0</td>\n",
       "      <td>0</td>\n",
       "      <td>0</td>\n",
       "    </tr>\n",
       "    <tr>\n",
       "      <td>1</td>\n",
       "      <td>ID_2669954a7.png</td>\n",
       "      <td>0</td>\n",
       "      <td>0</td>\n",
       "      <td>0</td>\n",
       "      <td>0</td>\n",
       "      <td>0</td>\n",
       "      <td>0</td>\n",
       "    </tr>\n",
       "    <tr>\n",
       "      <td>2</td>\n",
       "      <td>ID_52c9913b1.png</td>\n",
       "      <td>0</td>\n",
       "      <td>0</td>\n",
       "      <td>0</td>\n",
       "      <td>0</td>\n",
       "      <td>0</td>\n",
       "      <td>0</td>\n",
       "    </tr>\n",
       "    <tr>\n",
       "      <td>3</td>\n",
       "      <td>ID_4e6ff6126.png</td>\n",
       "      <td>0</td>\n",
       "      <td>0</td>\n",
       "      <td>0</td>\n",
       "      <td>0</td>\n",
       "      <td>0</td>\n",
       "      <td>0</td>\n",
       "    </tr>\n",
       "    <tr>\n",
       "      <td>4</td>\n",
       "      <td>ID_7858edd88.png</td>\n",
       "      <td>0</td>\n",
       "      <td>0</td>\n",
       "      <td>0</td>\n",
       "      <td>0</td>\n",
       "      <td>0</td>\n",
       "      <td>0</td>\n",
       "    </tr>\n",
       "  </tbody>\n",
       "</table>\n",
       "</div>"
      ],
      "text/plain": [
       "            ImageID  epidural  intraparenchymal  intraventricular  \\\n",
       "0  ID_63eb1e259.png         0                 0                 0   \n",
       "1  ID_2669954a7.png         0                 0                 0   \n",
       "2  ID_52c9913b1.png         0                 0                 0   \n",
       "3  ID_4e6ff6126.png         0                 0                 0   \n",
       "4  ID_7858edd88.png         0                 0                 0   \n",
       "\n",
       "   subarachnoid  subdural  any  \n",
       "0             0         0    0  \n",
       "1             0         0    0  \n",
       "2             0         0    0  \n",
       "3             0         0    0  \n",
       "4             0         0    0  "
      ]
     },
     "metadata": {},
     "output_type": "display_data"
    }
   ],
   "source": [
    "print('Training data: ')\n",
    "display(trainDf.head())"
   ]
  },
  {
   "cell_type": "code",
   "execution_count": null,
   "metadata": {},
   "outputs": [],
   "source": []
  }
 ],
 "metadata": {
  "kernelspec": {
   "display_name": "Python (py36)",
   "language": "python",
   "name": "py36"
  },
  "language_info": {
   "codemirror_mode": {
    "name": "ipython",
    "version": 3
   },
   "file_extension": ".py",
   "mimetype": "text/x-python",
   "name": "python",
   "nbconvert_exporter": "python",
   "pygments_lexer": "ipython3",
   "version": "3.6.7"
  }
 },
 "nbformat": 4,
 "nbformat_minor": 2
}
