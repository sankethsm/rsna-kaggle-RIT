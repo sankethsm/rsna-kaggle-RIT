{
 "cells": [
  {
   "cell_type": "code",
   "execution_count": 1,
   "metadata": {},
   "outputs": [],
   "source": [
    "from glob import glob\n",
    "import os\n",
    "import pandas as pd\n",
    "import numpy as np\n",
    "from PIL import Image\n",
    "from random import randrange\n",
    "import pydicom\n",
    "import matplotlib.pyplot as plt"
   ]
  },
  {
   "cell_type": "code",
   "execution_count": 3,
   "metadata": {},
   "outputs": [
    {
     "name": "stdout",
     "output_type": "stream",
     "text": [
      "['stage_1_sample_submission.csv', 'stage_1_test_images', 'stage_1_train.csv', 'stage_1_train_images']\n"
     ]
    }
   ],
   "source": [
    "print(os.listdir(\"D:\\\\kaggle\\\\rsna\"))\n",
    "rootDir = \"D:\\\\kaggle\\\\rsna\""
   ]
  },
  {
   "cell_type": "code",
   "execution_count": 4,
   "metadata": {},
   "outputs": [],
   "source": [
    "def window_image(img, window_center,window_width, intercept, slope):\n",
    "\n",
    "    img = (img*slope +intercept)\n",
    "    img_min = window_center - window_width//2\n",
    "    img_max = window_center + window_width//2\n",
    "    img[img<img_min] = img_min\n",
    "    img[img>img_max] = img_max\n",
    "    return img\n",
    "\n",
    "def get_first_of_dicom_field_as_int(x):\n",
    "    #get x[0] as in int is x is a 'pydicom.multival.MultiValue', otherwise get int(x)\n",
    "    if type(x) == pydicom.multival.MultiValue:\n",
    "        return int(x[0])\n",
    "    else:\n",
    "        return int(x)\n",
    "\n",
    "def get_windowing(data):\n",
    "    dicom_fields = [data[('0028','1050')].value, #window center\n",
    "                    data[('0028','1051')].value, #window width\n",
    "                    data[('0028','1052')].value, #intercept\n",
    "                    data[('0028','1053')].value] #slope\n",
    "    return [get_first_of_dicom_field_as_int(x) for x in dicom_fields]"
   ]
  },
  {
   "cell_type": "code",
   "execution_count": 10,
   "metadata": {},
   "outputs": [],
   "source": [
    "def prepareDataframe(path, train=False, nrows=None):\n",
    "    \"\"\"\n",
    "    Prepare Pandas DataFrame for fitting neural network models\n",
    "    Returns a Dataframe with two columns\n",
    "    ImageID and Labels (list of all labels for an image)\n",
    "    \"\"\" \n",
    "    df = pd.read_csv(path, nrows=nrows)\n",
    "    if train:\n",
    "        # Duplicates found from this kernel:\n",
    "        # https://www.kaggle.com/akensert/resnet50-keras-baseline-model\n",
    "        removeDuplicates = [1598538, 1598539, 1598540, 1598541, 1598542, 1598543,\n",
    "                                312468,  312469,  312470,  312471,  312472,  312473,\n",
    "                                2708700, 2708701, 2708702, 2708703, 2708704, 2708705,\n",
    "                                3032994, 3032995, 3032996, 3032997, 3032998, 3032999]  \n",
    "        df = df.drop(index=removeDuplicates).reset_index(drop=True)\n",
    "    \n",
    "    # Get ImageID for using with generator\n",
    "    df['ImageID'] = df['ID'].str.rsplit('_', 1).map(lambda x: x[0]) + '.dcm'\n",
    "    # Get labels for each image\n",
    "    labelList = df.groupby('ImageID')['Label'].apply(list)\n",
    "    \n",
    "    # A clean DataFrame with a column for ImageID and columns for each label\n",
    "    newDf = pd.DataFrame({'ImageID': df['ImageID'].unique(), \n",
    "                           'Labels': labelList}).set_index('ImageID').reset_index()\n",
    "    newDf[targets] = pd.DataFrame(newDf['Labels'].values.tolist(), index= newDf.index)\n",
    "    newDf = newDf.drop('Labels', axis=1)\n",
    "    return newDf"
   ]
  },
  {
   "cell_type": "code",
   "execution_count": 11,
   "metadata": {},
   "outputs": [],
   "source": [
    "trainSheet = os.path.join(rootDir, 'stage_1_train.csv')\n",
    "testSheet = os.path.join(rootDir, 'stage_1_sample_submission.csv')\n",
    "\n",
    "# All labels that we have to predict in this competition\n",
    "targets = ['epidural', 'intraparenchymal', \n",
    "           'intraventricular', 'subarachnoid', \n",
    "           'subdural', 'any']\n",
    "\n",
    "trainDf = prepareDataframe(trainSheet, train=True)\n",
    "trainDf = trainDf.set_index(\"ImageID\", drop=True)\n",
    "testDf = prepareDataframe(testSheet)\n",
    "testDf = testDf.set_index(\"ImageID\", drop=True)"
   ]
  },
  {
   "cell_type": "code",
   "execution_count": null,
   "metadata": {},
   "outputs": [],
   "source": [
    "class RsnaRIT(Dataset):\n",
    "\n",
    "    def __init__(self, dataPartition, dataPath, transform=None):\n",
    "        self.dataPath = os.path.join(dataPath, dataPartition)\n",
    "        self.dataList = os.listdir(self.dataPath)\n",
    "        self.dataPartition = dataPartition\n",
    "        self.transform = transform\n",
    "\n",
    "    def __len__(self):\n",
    "        return len(self.dataList)\n",
    "\n",
    "    def __getitem__(self, img_id):\n",
    "        imgID = self.dataList[img_id]\n",
    "        imagePath = os.path.join(self.dataPath, imgID)\n",
    "        \n",
    "        data = pydicom.dcmread(imagePath)\n",
    "        window_center , window_width, intercept, slope = get_windowing(data)\n",
    "        img = pydicom.read_file(train[case]).pixel_array\n",
    "        img = window_image(img, window_center, window_width, intercept, slope)\n",
    "        \n",
    "        if self.dataPartition == 'train':\n",
    "            labels = trainDf.loc[imgID,:].tolist()\n",
    "        elif self.dataPartition == 'test':\n",
    "            labels = testDf.loc[imgID,:].tolist()\n",
    "            \n",
    "        img = np.divide(img, 255.)\n",
    "\n",
    "        dataDict = {'image': scan, 'label': labels}\n",
    "\n",
    "        if self.transform:\n",
    "            dataDict = self.transform(dataDict)\n",
    "\n",
    "        return dataDict"
   ]
  }
 ],
 "metadata": {
  "kernelspec": {
   "display_name": "Python (py36)",
   "language": "python",
   "name": "py36"
  },
  "language_info": {
   "codemirror_mode": {
    "name": "ipython",
    "version": 3
   },
   "file_extension": ".py",
   "mimetype": "text/x-python",
   "name": "python",
   "nbconvert_exporter": "python",
   "pygments_lexer": "ipython3",
   "version": "3.6.7"
  }
 },
 "nbformat": 4,
 "nbformat_minor": 2
}
